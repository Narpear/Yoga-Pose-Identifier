{
 "cells": [
  {
   "cell_type": "markdown",
   "metadata": {},
   "source": [
    "# Yoga Pose Identification, TDL Mini Project\n",
    "#### Author: Prerana Sanjay Kulkarni (Narpear)\n",
    "\n"
   ]
  },
  {
   "cell_type": "markdown",
   "metadata": {},
   "source": [
    "# Loading the dataset"
   ]
  },
  {
   "cell_type": "code",
   "execution_count": 2,
   "metadata": {},
   "outputs": [
    {
     "name": "stdout",
     "output_type": "stream",
     "text": [
      "5987\n"
     ]
    }
   ],
   "source": [
    "from torchvision import transforms, datasets\n",
    "\n",
    "# Define transformations for the images\n",
    "transform = transforms.Compose([\n",
    "    transforms.Resize((224, 224)), # resize images to 224x224 pixels\n",
    "    transforms.ToTensor(), # convert images to PyTorch tensors\n",
    "])\n",
    "\n",
    "# Load the dataset\n",
    "dataset = datasets.ImageFolder(root='C:\\\\Users\\\\prerk\\\\OneDrive\\\\Desktop\\\\Prerana\\\\PESU\\\\Sem 6\\\\TDL\\\\Mini Project\\\\dataset', transform=transform)\n",
    "\n",
    "# Print the length of the dataset\n",
    "print(len(dataset))"
   ]
  },
  {
   "cell_type": "markdown",
   "metadata": {},
   "source": [
    "# Some exploratory data analysis"
   ]
  },
  {
   "cell_type": "code",
   "execution_count": 4,
   "metadata": {},
   "outputs": [
    {
     "name": "stdout",
     "output_type": "stream",
     "text": [
      "Number of samples in the dataset: 5987\n"
     ]
    }
   ],
   "source": [
    "from torch.utils.data import DataLoader\n",
    "\n",
    "# Create a DataLoader object\n",
    "data_loader = DataLoader(dataset, batch_size=1, shuffle=False)\n",
    "\n",
    "# Print the number of samples in the dataset\n",
    "print(\"Number of samples in the dataset:\", len(data_loader))"
   ]
  },
  {
   "cell_type": "code",
   "execution_count": 10,
   "metadata": {},
   "outputs": [
    {
     "name": "stdout",
     "output_type": "stream",
     "text": [
      "Number of samples per class: \n",
      "[0] : 65 samples, adho mukha svanasana\n",
      "[1] : 59 samples, adho mukha vriksasana\n",
      "[2] : 33 samples, agnistambhasana\n",
      "[3] : 59 samples, ananda balasana\n",
      "[4] : 43 samples, anantasana\n",
      "[5] : 64 samples, anjaneyasana\n",
      "[6] : 40 samples, ardha bhekasana\n",
      "[7] : 52 samples, ardha chandrasana\n",
      "[8] : 90 samples, ardha matsyendrasana\n",
      "[9] : 47 samples, ardha pincha mayurasana\n",
      "[10] : 66 samples, ardha uttanasana\n",
      "[11] : 33 samples, ashtanga namaskara\n",
      "[12] : 72 samples, astavakrasana\n",
      "[13] : 70 samples, baddha konasana\n",
      "[14] : 77 samples, bakasana\n",
      "[15] : 71 samples, balasana\n",
      "[16] : 46 samples, bhairavasana\n",
      "[17] : 54 samples, bharadvajasana i\n",
      "[18] : 39 samples, bhekasana\n",
      "[19] : 73 samples, bhujangasana\n",
      "[20] : 61 samples, bhujapidasana\n",
      "[21] : 87 samples, bitilasana\n",
      "[22] : 54 samples, camatkarasana\n",
      "[23] : 70 samples, chakravakasana\n",
      "[24] : 90 samples, chaturanga dandasana\n",
      "[25] : 60 samples, dandasana\n",
      "[26] : 46 samples, dhanurasana\n",
      "[27] : 39 samples, durvasasana\n",
      "[28] : 55 samples, dwi pada viparita dandasana\n",
      "[29] : 51 samples, eka pada koundinyanasana i\n",
      "[30] : 58 samples, eka pada koundinyanasana ii\n",
      "[31] : 44 samples, eka pada rajakapotasana\n",
      "[32] : 55 samples, eka pada rajakapotasana ii\n",
      "[33] : 39 samples, ganda bherundasana\n",
      "[34] : 36 samples, garbha pindasana\n",
      "[35] : 78 samples, garudasana\n",
      "[36] : 72 samples, gomukhasana\n",
      "[37] : 66 samples, halasana\n",
      "[38] : 35 samples, hanumanasana\n",
      "[39] : 48 samples, janu sirsasana\n",
      "[40] : 57 samples, kapotasana\n",
      "[41] : 45 samples, krounchasana\n",
      "[42] : 40 samples, kurmasana\n",
      "[43] : 36 samples, lolasana\n",
      "[44] : 43 samples, makara adho mukha svanasana\n",
      "[45] : 57 samples, makarasana\n",
      "[46] : 68 samples, malasana\n",
      "[47] : 49 samples, marichyasana i\n",
      "[48] : 33 samples, marichyasana iii\n",
      "[49] : 46 samples, marjaryasana\n",
      "[50] : 57 samples, matsyasana\n",
      "[51] : 51 samples, mayurasana\n",
      "[52] : 72 samples, natarajasana\n",
      "[53] : 18 samples, padangusthasana\n",
      "[54] : 68 samples, padmasana\n",
      "[55] : 43 samples, parighasana\n",
      "[56] : 68 samples, paripurna navasana\n",
      "[57] : 39 samples, parivrtta janu sirsasana\n",
      "[58] : 40 samples, parivrtta parsvakonasana\n",
      "[59] : 62 samples, parivrtta trikonasana\n",
      "[60] : 56 samples, parsva bakasana\n",
      "[61] : 35 samples, parsvottanasana\n",
      "[62] : 56 samples, pasasana\n",
      "[63] : 56 samples, paschimottanasana\n",
      "[64] : 57 samples, phalakasana\n",
      "[65] : 35 samples, pincha mayurasana\n",
      "[66] : 66 samples, prasarita padottanasana\n",
      "[67] : 63 samples, purvottanasana\n",
      "[68] : 58 samples, salabhasana\n",
      "[69] : 55 samples, salamba bhujangasana\n",
      "[70] : 67 samples, salamba sarvangasana\n",
      "[71] : 60 samples, salamba sirsasana\n",
      "[72] : 57 samples, savasana\n",
      "[73] : 58 samples, setu bandha sarvangasana\n",
      "[74] : 49 samples, simhasana\n",
      "[75] : 50 samples, sukhasana\n",
      "[76] : 71 samples, supta baddha konasana\n",
      "[77] : 54 samples, supta matsyendrasana\n",
      "[78] : 62 samples, supta padangusthasana\n",
      "[79] : 60 samples, supta virasana\n",
      "[80] : 56 samples, tadasana\n",
      "[81] : 57 samples, tittibhasana\n",
      "[82] : 60 samples, tolasana\n",
      "[83] : 31 samples, tulasana\n",
      "[84] : 60 samples, upavistha konasana\n",
      "[85] : 68 samples, urdhva dhanurasana\n",
      "[86] : 47 samples, urdhva hastasana\n",
      "[87] : 63 samples, urdhva mukha svanasana\n",
      "[88] : 53 samples, urdhva prasarita eka padasana\n",
      "[89] : 87 samples, ustrasana\n",
      "[90] : 73 samples, utkatasana\n",
      "[91] : 50 samples, uttana shishosana\n",
      "[92] : 63 samples, uttanasana\n",
      "[93] : 38 samples, utthita ashwa sanchalanasana\n",
      "[94] : 59 samples, utthita hasta padangustasana\n",
      "[95] : 63 samples, utthita parsvakonasana\n",
      "[96] : 69 samples, utthita trikonasana\n",
      "[97] : 54 samples, vajrasana\n",
      "[98] : 74 samples, vasisthasana\n",
      "[99] : 69 samples, viparita karani\n",
      "[100] : 54 samples, virabhadrasana i\n",
      "[101] : 55 samples, virabhadrasana ii\n",
      "[102] : 61 samples, virabhadrasana iii\n",
      "[103] : 50 samples, virasana\n",
      "[104] : 62 samples, vriksasana\n",
      "[105] : 51 samples, vrischikasana\n",
      "[106] : 46 samples, yoganidrasana\n"
     ]
    }
   ],
   "source": [
    "from collections import Counter\n",
    "\n",
    "# Count the number of samples in each class\n",
    "class_counts = dict(Counter(dataset.targets))\n",
    "\n",
    "print(\"Number of samples per class: \")\n",
    "\n",
    "# Print the counts\n",
    "for class_index, count in class_counts.items():\n",
    "    class_name = dataset.classes[class_index]\n",
    "    print(f\"[{class_index}] : {count} samples, {class_name}\")\n"
   ]
  }
 ],
 "metadata": {
  "kernelspec": {
   "display_name": "Python 3",
   "language": "python",
   "name": "python3"
  },
  "language_info": {
   "codemirror_mode": {
    "name": "ipython",
    "version": 3
   },
   "file_extension": ".py",
   "mimetype": "text/x-python",
   "name": "python",
   "nbconvert_exporter": "python",
   "pygments_lexer": "ipython3",
   "version": "3.11.4"
  }
 },
 "nbformat": 4,
 "nbformat_minor": 2
}
